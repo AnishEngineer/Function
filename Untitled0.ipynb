{
  "nbformat": 4,
  "nbformat_minor": 0,
  "metadata": {
    "colab": {
      "provenance": []
    },
    "kernelspec": {
      "name": "python3",
      "display_name": "Python 3"
    },
    "language_info": {
      "name": "python"
    }
  },
  "cells": [
    {
      "cell_type": "markdown",
      "source": [
        "**Theory Questions**"
      ],
      "metadata": {
        "id": "GloTAh550Evm"
      }
    },
    {
      "cell_type": "markdown",
      "source": [
        "#1. What is the difference between a function and a method in Python?\n",
        "\n",
        "Ans:-  Functions and methods are both blocks of code that perform specific tasks. However, there are key differences:\n",
        "\n",
        "Function:\n",
        "1. Independent block of code: A function is a self-contained block of code that can be called multiple times from different parts of a program.\n",
        "2. Defined outside a class: Functions are defined outside a class and do not belong to any specific class or object.\n",
        "3. No implicit self parameter: Functions do not have an implicit self parameter, which means they do not have access to the attributes of a class or object.\n",
        "\n",
        "Method:\n",
        "1. Part of a class: A method is a block of code that belongs to a specific class or object.\n",
        "2. Defined inside a class: Methods are defined inside a class and are used to perform actions on objects of that class.\n",
        "3. Implicit self parameter: Methods have an implicit self parameter, which refers to the instance of the class and provides access to its attributes.\n",
        "\n",
        "Key differences:\n",
        "1. Scope: Functions have a broader scope and can be called from anywhere, while methods are tied to a specific class or object.\n",
        "2. Access to attributes: Methods have access to the attributes of a class or object through the self parameter, while functions do not.\n",
        "3. Purpose: Functions are often used for general-purpose tasks, while methods are used to perform actions specific to a class or object.\n",
        "\n",
        "Example:\n",
        "\n",
        "# Function\n",
        "def greet(name):\n",
        "    print(f\"Hello, {name}!\")\n",
        "\n",
        "# Class with a method\n",
        "class Person:\n",
        "    def __init__(self, name):\n",
        "        self.name = name\n",
        "\n",
        "    def greet(self):\n",
        "        print(f\"Hello, my name is {self.name}!\")\n",
        "\n",
        "# Call the function\n",
        "greet(\"John\")\n",
        "\n",
        "# Create an instance of the class and call the method\n",
        "person = Person(\"Jane\")\n",
        "person.greet()\n",
        "\n",
        "\n",
        "\n",
        "\n",
        "\n",
        "#2.  Explain the concept of function arguments and parameters in Python.\n",
        "\n",
        "Ans:- In Python, functions can take arguments and parameters to make them more flexible and reusable.\n",
        "\n",
        "Function Parameters:\n",
        "1. Defined in the function definition: Parameters are defined in the function definition, inside the parentheses.\n",
        "2. Receive values from arguments: Parameters receive values from arguments passed to the function when it's called.\n",
        "3. Can have default values: Parameters can have default values, which are used if no argument is passed.\n",
        "\n",
        "Function Arguments:\n",
        "1. Passed to the function when called: Arguments are values passed to the function when it's called.\n",
        "2. Assigned to parameters: Arguments are assigned to parameters in the order they're defined.\n",
        "3. Can be positional or keyword-based: Arguments can be passed positionally (based on order) or using keyword arguments (based on parameter name).\n",
        "\n",
        "Types of Function Arguments:\n",
        "1. Positional arguments: Passed in the order they're defined.\n",
        "2. Keyword arguments: Passed using the parameter name.\n",
        "3. Arbitrary arguments: Passed using *args or **kwargs.\n",
        "\n",
        "Example:\n",
        "\n",
        "def greet(name, message=\"Hello\"):\n",
        "    print(f\"{message}, {name}!\")\n",
        "\n",
        "# Positional arguments\n",
        "greet(\"John\", \"Hi\")\n",
        "\n",
        "# Keyword arguments\n",
        "greet(name=\"Jane\", message=\"Hi\")\n",
        "\n",
        "# Arbitrary arguments\n",
        "def sum_numbers(*numbers):\n",
        "    return sum(numbers)\n",
        "\n",
        "print(sum_numbers(1, 2, 3, 4, 5))\n",
        "\n",
        "\n",
        "\n",
        "#3. What are the different ways to define and call a function in Python?\n",
        "\n",
        "Ans:- In Python, you can define and call functions in several ways:\n",
        "\n",
        "Defining Functions:\n",
        "1. Function Definition: def keyword followed by function name and parameters.\n",
        "\n",
        "def greet(name):\n",
        "    print(f\"Hello, {name}!\")\n",
        "\n",
        "2. Lambda Functions: Anonymous functions defined using lambda keyword.\n",
        "\n",
        "greet = lambda name: print(f\"Hello, {name}!\")\n",
        "\n",
        "3. Nested Functions: Functions defined inside another function.\n",
        "\n",
        "def outer():\n",
        "    def inner():\n",
        "        print(\"Inner function\")\n",
        "    inner()\n",
        "\n",
        "\n",
        "Calling Functions:\n",
        "1. Positional Arguments: Passing arguments in the order they're defined.\n",
        "\n",
        "greet(\"John\")\n",
        "\n",
        "2. Keyword Arguments: Passing arguments using parameter names.\n",
        "\n",
        "greet(name=\"Jane\")\n",
        "\n",
        "3. Arbitrary Arguments: Passing variable number of arguments using *args or **kwargs.\n",
        "\n",
        "def sum_numbers(*numbers):\n",
        "    return sum(numbers)\n",
        "print(sum_numbers(1, 2, 3, 4, 5))\n",
        "\n",
        "4. Function Call with Default Values: Calling a function with default values for some parameters.\n",
        "\n",
        "def greet(name, message=\"Hello\"):\n",
        "    print(f\"{message}, {name}!\")\n",
        "greet(\"John\")  # Uses default message\n",
        "\n",
        "\n",
        "Other Function-Related Concepts:\n",
        "1. Function Return Values: Functions can return values using the return statement.\n",
        "\n",
        "def add(a, b):\n",
        "    return a + b\n",
        "result = add(2, 3)\n",
        "print(result)  # Output: 5\n",
        "\n",
        "2. Function Docstrings: Functions can have docstrings to provide documentation.\n",
        "\n",
        "def greet(name):\n",
        "    \"\"\"Prints a personalized greeting message.\"\"\"\n",
        "    print(f\"Hello, {name}!\")\n",
        "\n",
        "\n",
        "#4.. What is the purpose of the `return` statement in a Python function?\n",
        "\n",
        "Ans:- The return statement in a Python function serves several purposes:\n",
        "\n",
        "Primary Purpose:\n",
        "1. Exiting the function: The return statement exits the function and returns control to the caller.\n",
        "2. Returning a value: The return statement can return a value from the function to the caller.\n",
        "\n",
        "Secondary Purposes:\n",
        "1. Specifying the return type: In Python 3.5 and later, the return statement can be used with type hints to specify the return type of a function.\n",
        "2. Documenting the function: The return statement can be used to document the function's behavior and return value.\n",
        "\n",
        "Example:\n",
        "\n",
        "def add(a, b):\n",
        "    result = a + b\n",
        "    return result  # Returns the result and exits the function\n",
        "\n",
        "print(add(2, 3))  # Output: 5\n",
        "\n",
        "\n",
        "Best Practices:\n",
        "1. Use return explicitly: Always use the return statement explicitly to return values from a function.\n",
        "2. Avoid implicit returns: Avoid relying on implicit returns, where a function returns None by default.\n",
        "3. Document return values: Document the return values of your functions using docstrings or comments.\n",
        "\n",
        "\n",
        "\n",
        "#5. What are iterators in Python and how do they differ from iterables?\n",
        "\n",
        "Ans:-   The return statement in a Python function serves several purposes:\n",
        "\n",
        "Primary Purpose:\n",
        "1. Exiting the function: The return statement exits the function and returns control to the caller.\n",
        "2. Returning a value: The return statement can return a value from the function to the caller.\n",
        "\n",
        "Secondary Purposes:\n",
        "1. Specifying the return type: In Python 3.5 and later, the return statement can be used with type hints to specify the return type of a function.\n",
        "2. Documenting the function: The return statement can be used to document the function's behavior and return value.\n",
        "\n",
        "Example:\n",
        "\n",
        "def add(a, b):\n",
        "    result = a + b\n",
        "    return result  # Returns the result and exits the function\n",
        "\n",
        "print(add(2, 3))  # Output: 5\n",
        "\n",
        "\n",
        "Best Practices:\n",
        "1. Use return explicitly: Always use the return statement explicitly to return values from a function.\n",
        "2. Avoid implicit returns: Avoid relying on implicit returns, where a function returns None by default.\n",
        "3. Document return values: Document the return values of your functions using docstrings or comments.\n",
        "\n",
        "\n",
        "Iterables:\n",
        "1. Containers: Iterables are containers that hold multiple values, such as lists, tuples, dictionaries, and sets.\n",
        "2. Can be iterated: Iterables can be iterated over, meaning their values can be accessed one by one.\n",
        "3. Implement __iter__: Iterables implement the __iter__ method, which returns an iterator object.\n",
        "\n",
        "Iterators:\n",
        "1. Iterator objects: Iterators are objects that keep track of their position within an iterable.\n",
        "2. Implement __next__: Iterators implement the __next__ method, which returns the next value from the iterable.\n",
        "3. Can only be iterated once: Iterators can only be iterated over once; after that, they're exhausted.\n",
        "\n",
        "Key differences:\n",
        "1. Container vs. pointer: Iterables are containers holding multiple values, while iterators are pointers that keep track of their position.\n",
        "2. Reusable vs. single-use: Iterables can be iterated over multiple times, while iterators can only be iterated over once.\n",
        "3. __iter__ vs. __next__: Iterables implement __iter__, while iterators implement __next__.\n",
        "\n",
        "Example:\n",
        "\n",
        "# Create a list (iterable)\n",
        "my_list = [1, 2, 3]\n",
        "\n",
        "# Create an iterator from the list\n",
        "my_iterator = iter(my_list)\n",
        "\n",
        "# Use the iterator to access values\n",
        "print(next(my_iterator))  # Output: 1\n",
        "print(next(my_iterator))  # Output: 2\n",
        "print(next(my_iterator))  # Output: 3\n",
        "\n",
        "# Try to use the iterator again (exhausted)\n",
        "try:\n",
        "    print(next(my_iterator))\n",
        "except StopIteration:\n",
        "    print(\"Iterator is exhausted\")\n",
        "\n",
        "\n",
        "\n",
        "#6.  Explain the concept of generators in Python and how they are defined.\n",
        "\n",
        "Ans:- Generators are a powerful tool in Python that enable the creation of iterators in a more efficient and flexible way.\n",
        "\n",
        "What is a Generator?\n",
        "A generator is a special type of iterator that can be used to generate a sequence of values instead of computing them all at once and storing them in memory.\n",
        "\n",
        "Defining a Generator:\n",
        "A generator is defined using a function, but instead of using the return statement to return a value, a generator uses the yield statement to produce a value.\n",
        "\n",
        "Syntax:\n",
        "\n",
        "def generator_name(parameters):\n",
        "    # Code to generate values\n",
        "    yield value1\n",
        "    # Code to generate more values\n",
        "    yield value2\n",
        "    # ...\n",
        "\n",
        "\n",
        "Example:\n",
        "\n",
        "def infinite_sequence():\n",
        "    num = 0\n",
        "    while True:\n",
        "        yield num\n",
        "        num += 1\n",
        "\n",
        "# Create a generator object\n",
        "gen = infinite_sequence()\n",
        "\n",
        "# Print the first 10 values\n",
        "for _ in range(10):\n",
        "    print(next(gen))\n",
        "\n",
        "\n",
        "Characteristics of Generators:\n",
        "1. Lazy evaluation: Generators only compute values when asked for.\n",
        "2. Memory efficiency: Generators store only the current state, making them memory-efficient.\n",
        "3. Flexibility: Generators can be used to implement complex iteration logic.\n",
        "\n",
        "Benefits of Generators:\n",
        "1. Improved performance: Generators can improve performance by avoiding unnecessary computations.\n",
        "2. Reduced memory usage: Generators can reduce memory usage by storing only the current state.\n",
        "3. Simplified code: Generators can simplify code by encapsulating iteration logic.\n",
        "\n",
        "Common Use Cases:\n",
        "1. Handling large datasets: Generators are useful when working with large datasets that don't fit in memory.\n",
        "2. Implementing cooperative multitasking: Generators can be used to implement cooperative multitasking, where tasks yield control to other tasks.\n",
        "3. Creating iterators: Generators are a convenient way to create iterators for custom data structures.\n",
        "\n",
        "\n",
        "#7.   What are the advantages of using generators over regular functions?\n",
        "\n",
        "Ans:- Generators have several advantages over regular functions:\n",
        "\n",
        "Advantages:\n",
        "1. Memory Efficiency: Generators store only the current state, making them memory-efficient. Regular functions, on the other hand, store all the values in memory.\n",
        "2. Lazy Evaluation: Generators only compute values when asked for, whereas regular functions compute all values upfront.\n",
        "3. Flexibility: Generators can be used to implement complex iteration logic, making them more flexible than regular functions.\n",
        "4. Improved Performance: Generators can improve performance by avoiding unnecessary computations and memory allocations.\n",
        "5. Simplified Code: Generators can simplify code by encapsulating iteration logic and reducing the need for explicit loops.\n",
        "\n",
        "Use Cases:\n",
        "1. Handling Large Datasets: Generators are useful when working with large datasets that don't fit in memory.\n",
        "2. Implementing Cooperative Multitasking: Generators can be used to implement cooperative multitasking, where tasks yield control to other tasks.\n",
        "3. Creating Iterators: Generators are a convenient way to create iterators for custom data structures.\n",
        "\n",
        "Example:\n",
        "\n",
        "# Regular function\n",
        "def get_numbers(n):\n",
        "    numbers = []\n",
        "    for i in range(n):\n",
        "        numbers.append(i)\n",
        "    return numbers\n",
        "\n",
        "# Generator function\n",
        "def get_numbers_generator(n):\n",
        "    for i in range(n):\n",
        "        yield i\n",
        "\n",
        "# Using the regular function\n",
        "numbers = get_numbers(1000000)\n",
        "print(numbers[0])  # Prints 0\n",
        "\n",
        "# Using the generator function\n",
        "numbers_generator = get_numbers_generator(1000000)\n",
        "print(next(numbers_generator))  # Prints 0\n",
        "\n",
        "\n",
        "#8. What is a lambda function in Python and when is it typically used?\n",
        "\n",
        "Ans:-In Python, a lambda function is a small, anonymous function that can take any number of arguments, but can only have one expression. Lambda functions are defined using the lambda keyword and are typically used when a small, one-time-use function is needed.\n",
        "\n",
        "Syntax:\n",
        "\n",
        "lambda arguments: expression\n",
        "\n",
        "\n",
        "Characteristics:\n",
        "1. Anonymous: Lambda functions do not have a declared name.\n",
        "2. Single expression: Lambda functions can only contain a single expression.\n",
        "3. Any number of arguments: Lambda functions can take any number of arguments.\n",
        "\n",
        "Typical Use Cases:\n",
        "1. Event handling: Lambda functions are often used as event handlers, such as in GUI programming or when working with APIs.\n",
        "2. Data processing: Lambda functions can be used to process data in a concise and readable way, such as when working with lists or dictionaries.\n",
        "3. One-time-use functions: Lambda functions are useful when a function is only needed once and does not need to be reused.\n",
        "\n",
        "Example:\n",
        "\n",
        "# Define a lambda function that adds two numbers\n",
        "add_numbers = lambda x, y: x + y\n",
        "\n",
        "# Use the lambda function\n",
        "result = add_numbers(3, 4)\n",
        "print(result)  # Output: 7\n",
        "\n",
        "\n",
        "Example with map():\n",
        "\n",
        "# Define a list of numbers\n",
        "numbers = [1, 2, 3, 4, 5]\n",
        "\n",
        "# Use a lambda function with `map()` to double each number\n",
        "doubled_numbers = list(map(lambda x: x * 2, numbers))\n",
        "\n",
        "# Print the result\n",
        "print(doubled_numbers)  # Output: [2, 4, 6, 8, 10]\n",
        "\n",
        "\n",
        "#9. Explain the purpose and usage of the `map()` function in Python.\n",
        "\n",
        "Ans:- The map() function in Python is a built-in function that applies a given function to each item of an iterable (such as a list, tuple, or string) and returns a map object.\n",
        "\n",
        "Purpose:\n",
        "The primary purpose of the map() function is to:\n",
        "\n",
        "1. Apply a function to multiple values: map() allows you to apply a function to multiple values in a single operation.\n",
        "2. Transform iterables: map() can be used to transform iterables by applying a function to each element.\n",
        "\n",
        "Usage:\n",
        "The map() function takes two arguments:\n",
        "\n",
        "1. Function: The function to be applied to each item of the iterable.\n",
        "2. Iterable: The iterable (such as a list, tuple, or string) to which the function will be applied.\n",
        "\n",
        "Syntax:\n",
        "\n",
        "map(function, iterable)\n",
        "\n",
        "\n",
        "Example:\n",
        "\n",
        "# Define a list of numbers\n",
        "numbers = [1, 2, 3, 4, 5]\n",
        "\n",
        "# Use map() to double each number\n",
        "doubled_numbers = list(map(lambda x: x * 2, numbers))\n",
        "\n",
        "# Print the result\n",
        "print(doubled_numbers)  # Output: [2, 4, 6, 8, 10]\n",
        "\n",
        "\n",
        "Common Use Cases:\n",
        "1. Data transformation: map() is often used to transform data by applying a function to each element.\n",
        "2. Data processing: map() can be used to process data in parallel by applying a function to each element.\n",
        "3. Functional programming: map() is a fundamental function in functional programming, allowing you to apply a function to each element of a data structure.\n",
        "\n",
        "Best Practices:\n",
        "1. Use lambda functions: map() is often used with lambda functions to create concise and readable code.\n",
        "2. Use list comprehension: In Python 3, map() returns a map object. To get a list, use the list() function or a list comprehension.\n",
        "3. Avoid complex functions: Keep the function applied to each element simple and concise to ensure readability and maintainability.\n",
        "\n",
        "\n",
        "#10. What is the difference between `map()`, `reduce()`, and `filter()` functions in Python?\n",
        "\n",
        "Ans:-  map(), reduce(), and filter() are three fundamental functions in Python that are used for functional programming. Here's a brief overview of each function:\n",
        "\n",
        "Map()\n",
        "1. Applies a function: map() applies a given function to each item of an iterable (such as a list, tuple, or string).\n",
        "2. Returns a map object: map() returns a map object, which is an iterator that yields the results of applying the function to each item.\n",
        "3. Transforms iterables: map() is often used to transform iterables by applying a function to each element.\n",
        "\n",
        "Reduce()\n",
        "1. Applies a function cumulatively: reduce() applies a given function cumulatively to the items of an iterable, from left to right.\n",
        "2. Returns a single value: reduce() returns a single value, which is the result of applying the function cumulatively to all items.\n",
        "3. Imports from functools: In Python 3, reduce() is moved to the functools module, so you need to import it from there.\n",
        "\n",
        "Filter()\n",
        "1. Constructs an iterator: filter() constructs an iterator from elements of an iterable for which a function returns True.\n",
        "2. Returns a filter object: filter() returns a filter object, which is an iterator that yields the elements for which the function returns True.\n",
        "3. Selects elements: filter() is often used to select elements from an iterable based on a condition.\n",
        "\n",
        "Key differences:\n",
        "1. Purpose: map() transforms iterables, reduce() applies a function cumulatively, and filter() selects elements.\n",
        "2. Return value: map() returns a map object, reduce() returns a single value, and filter() returns a filter object.\n",
        "3. Usage: map() is often used for data transformation, reduce() for cumulative operations, and filter() for element selection.\n",
        "\n",
        "Example:\n",
        "\n",
        "from functools import reduce\n",
        "\n",
        "numbers = [1, 2, 3, 4, 5]\n",
        "\n",
        "# Map: Double each number\n",
        "doubled_numbers = list(map(lambda x: x * 2, numbers))\n",
        "print(doubled_numbers)  # Output: [2, 4, 6, 8, 10]\n",
        "\n",
        "# Reduce: Calculate the sum\n",
        "sum_numbers = reduce(lambda x, y: x + y, numbers)\n",
        "print(sum_numbers)  # Output: 15\n",
        "\n",
        "# Filter: Select even numbers\n",
        "even_numbers = list(filter(lambda x: x % 2 == 0, numbers))\n",
        "print(even_numbers)  # Output: [2, 4]\n",
        "\n",
        "\n",
        "#11. Using pen & Paper write the internal mechanism for sum operation using  reduce function on this given list:[47,11,42,13];\n",
        "\n",
        "\n",
        "Ans:- the sum operation using the reduce function on the given list:\n",
        "\n",
        "Step 1:\n",
        "- The reduce function takes two arguments: the function to apply (lambda x, y: x + y) and the iterable ([47, 11, 42, 13]).\n",
        "- The reduce function initializes the accumulator (x) with the first element of the iterable (47).\n",
        "\n",
        "Step 2:\n",
        "- The reduce function applies the function (lambda x, y: x + y) to the accumulator (47) and the next element of the iterable (11).\n",
        "- The result of the function application (47 + 11 = 58) becomes the new accumulator value.\n",
        "\n",
        "Step 3:\n",
        "- The reduce function applies the function (lambda x, y: x + y) to the accumulator (58) and the next element of the iterable (42).\n",
        "- The result of the function application (58 + 42 = 100) becomes the new accumulator value.\n",
        "\n",
        "Step 4:\n",
        "- The reduce function applies the function (lambda x, y: x + y) to the accumulator (100) and the next element of the iterable (13).\n",
        "- The result of the function application (100 + 13 = 113) becomes the final accumulator value.\n",
        "\n",
        "Final Result:\n",
        "- The reduce function returns the final accumulator value (113), which is the sum of all elements in the iterable.\n",
        "\n",
        "Here's a visual representation of the internal mechanism:\n",
        "\n",
        "47 + 11 = 58\n",
        "58 + 42 = 100\n",
        "100 + 13 = 113\n",
        "\n",
        "The final result is 113."
      ],
      "metadata": {
        "id": "XUe3sP0N0QeE"
      }
    },
    {
      "cell_type": "code",
      "source": [],
      "metadata": {
        "id": "F7KeG9ddSw9w"
      },
      "execution_count": null,
      "outputs": []
    },
    {
      "cell_type": "markdown",
      "source": [],
      "metadata": {
        "id": "x-SeGHQe09O_"
      }
    },
    {
      "cell_type": "markdown",
      "source": [
        "**Practical Questions**"
      ],
      "metadata": {
        "id": "5FK0FiLaBcwT"
      }
    },
    {
      "cell_type": "code",
      "source": [
        "#1. Write a Python function that takes a list of numbers as input and returns the sum of all even numbers in the list.\n",
        "\n",
        "def sum_even_numbers(numbers):\n",
        "    sum_even = 0\n",
        "    for num in numbers:\n",
        "        if num % 2 == 0:\n",
        "            sum_even += num\n",
        "    return sum_even\n",
        "print(sum_even_numbers([1, 2, 3, 4, 5, 6]))\n"
      ],
      "metadata": {
        "id": "E-NRH7_9BwtC",
        "colab": {
          "base_uri": "https://localhost:8080/"
        },
        "outputId": "18a45034-5aa4-407f-8d4e-6cf573febfd8"
      },
      "execution_count": 2,
      "outputs": [
        {
          "output_type": "stream",
          "name": "stdout",
          "text": [
            "12\n"
          ]
        }
      ]
    },
    {
      "cell_type": "code",
      "source": [
        "#2. Create a Python function that accepts a string and returns the reverse of that string.\n",
        "\n",
        "def reverse_string(s):\n",
        "    return s[::-1]\n",
        "\n",
        "print(reverse_string(\"Hello\"))"
      ],
      "metadata": {
        "id": "wqFJ8OH-BjQu",
        "colab": {
          "base_uri": "https://localhost:8080/"
        },
        "outputId": "41dfd729-5e82-4749-fd60-bb64791ed259"
      },
      "execution_count": 3,
      "outputs": [
        {
          "output_type": "stream",
          "name": "stdout",
          "text": [
            "olleH\n"
          ]
        }
      ]
    },
    {
      "cell_type": "code",
      "source": [
        "#3. Implement a Python function that takes a list of integers and returns a new list containing the squares of each number.\n",
        "\n",
        "def square_numbers(numbers):\n",
        "    squared_numbers = [num ** 2 for num in numbers]\n",
        "    return squared_numbers\n",
        "\n",
        "print(square_numbers([1, 2, 3, 4, 5]))"
      ],
      "metadata": {
        "colab": {
          "base_uri": "https://localhost:8080/"
        },
        "id": "qjL-uk9OImtY",
        "outputId": "59514cdb-259e-41c7-804e-dcbc47cbed0c"
      },
      "execution_count": 4,
      "outputs": [
        {
          "output_type": "stream",
          "name": "stdout",
          "text": [
            "[1, 4, 9, 16, 25]\n"
          ]
        }
      ]
    },
    {
      "cell_type": "code",
      "source": [
        "#4. Write a Python function that checks if a given number is prime or not from 1 to 200.\n",
        "\n",
        "\n",
        "def is_prime(num):\n",
        "    if num < 2:\n",
        "        return False\n",
        "    for i in range(2, int(num ** 0.5) + 1):\n",
        "        if num % i == 0:\n",
        "            return False\n",
        "    return True\n",
        "prime_numbers = [num for num in range(1, 201) if is_prime(num)]\n",
        "print(prime_numbers)"
      ],
      "metadata": {
        "colab": {
          "base_uri": "https://localhost:8080/"
        },
        "id": "htMu0FG_JWeB",
        "outputId": "b36467da-1efa-4ea4-ca00-ae8d204ec095"
      },
      "execution_count": 5,
      "outputs": [
        {
          "output_type": "stream",
          "name": "stdout",
          "text": [
            "[2, 3, 5, 7, 11, 13, 17, 19, 23, 29, 31, 37, 41, 43, 47, 53, 59, 61, 67, 71, 73, 79, 83, 89, 97, 101, 103, 107, 109, 113, 127, 131, 137, 139, 149, 151, 157, 163, 167, 173, 179, 181, 191, 193, 197, 199]\n"
          ]
        }
      ]
    },
    {
      "cell_type": "code",
      "source": [
        "#5. 5. Create an iterator class in Python that generates the Fibonacci sequence up to a specified number of terms.\n",
        "\n",
        "class FibonacciIterator:\n",
        "    def __init__(self, n):\n",
        "        self.n = n\n",
        "        self.a, self.b = 0, 1\n",
        "        self.count = 0\n",
        "\n",
        "    def __iter__(self):\n",
        "        return self\n",
        "\n",
        "    def __next__(self):\n",
        "        if self.count < self.n:\n",
        "            result = self.a\n",
        "            self.a, self.b = self.b, self.a + self.b\n",
        "            self.count += 1\n",
        "            return result\n",
        "        else:\n",
        "            raise StopIteration\n",
        "\n",
        "        print(\"Fibonacci sequence:\")\n",
        "fib = FibonacciIterator(10)\n",
        "for num in fib:\n",
        "    print(num)"
      ],
      "metadata": {
        "colab": {
          "base_uri": "https://localhost:8080/"
        },
        "id": "18PJtfBIJyCx",
        "outputId": "657003a4-a00c-461c-989d-b134abcc59bc"
      },
      "execution_count": 6,
      "outputs": [
        {
          "output_type": "stream",
          "name": "stdout",
          "text": [
            "0\n",
            "1\n",
            "1\n",
            "2\n",
            "3\n",
            "5\n",
            "8\n",
            "13\n",
            "21\n",
            "34\n"
          ]
        }
      ]
    },
    {
      "cell_type": "code",
      "source": [
        "#6. Write a generator function in Python that yields the powers of 2 up to a given exponent.\n",
        "\n",
        "def power_of_two(n):\n",
        "    power = 1\n",
        "    for _ in range(n):\n",
        "        yield power\n",
        "        power *= 2\n",
        "\n",
        "for power in power_of_two(5):\n",
        "    print(power)"
      ],
      "metadata": {
        "colab": {
          "base_uri": "https://localhost:8080/"
        },
        "id": "iFAf4c9QLgbj",
        "outputId": "f7ef0b92-ee00-4e1c-e7c2-7e7a4085d356"
      },
      "execution_count": 10,
      "outputs": [
        {
          "output_type": "stream",
          "name": "stdout",
          "text": [
            "1\n",
            "2\n",
            "4\n",
            "8\n",
            "16\n"
          ]
        }
      ]
    },
    {
      "cell_type": "code",
      "source": [
        "#7. Implement a generator function that reads a file line by line and yields each line as a string.\n",
        "\n",
        "def read_file_line_by_line(file_path):\n",
        "    with open(file_path, 'r') as file:\n",
        "        for line in file:\n",
        "            yield line"
      ],
      "metadata": {
        "id": "rRLnuWwRLmEE"
      },
      "execution_count": 11,
      "outputs": []
    },
    {
      "cell_type": "code",
      "source": [
        "#8.Use a lambda function in Python to sort a list of tuples based on the second element of each tuple.\n",
        "\n",
        "data = [(1, 5), (3, 2), (2, 8), (4, 1)]\n",
        "sorted_data = sorted(data, key=lambda x: x[1])\n",
        "print(sorted_data)\n"
      ],
      "metadata": {
        "colab": {
          "base_uri": "https://localhost:8080/"
        },
        "id": "y_l4CJzFLr69",
        "outputId": "ea014edf-efed-47af-85a0-ba6e95351f15"
      },
      "execution_count": 12,
      "outputs": [
        {
          "output_type": "stream",
          "name": "stdout",
          "text": [
            "[(4, 1), (3, 2), (1, 5), (2, 8)]\n"
          ]
        }
      ]
    },
    {
      "cell_type": "code",
      "source": [
        "#9. Write a Python program that uses `map()` to convert a list of temperatures from Celsius to Fahrenheit.\n",
        "\n",
        "celsius_temperatures = [0, 10, 20, 30, 40]\n",
        "fahrenheit_temperatures = list(map(lambda c: (c * 9/5) + 32, celsius_temperatures))\n",
        "print(fahrenheit_temperatures)"
      ],
      "metadata": {
        "colab": {
          "base_uri": "https://localhost:8080/"
        },
        "id": "64gI4A5FL4LU",
        "outputId": "20cf4f08-82d9-4e44-fe48-db92fd74122a"
      },
      "execution_count": 13,
      "outputs": [
        {
          "output_type": "stream",
          "name": "stdout",
          "text": [
            "[32.0, 50.0, 68.0, 86.0, 104.0]\n"
          ]
        }
      ]
    },
    {
      "cell_type": "code",
      "source": [
        "#10. Create a Python program that uses `filter()` to remove all the vowels from a given string.\n",
        "\n",
        "def remove_vowels(string):\n",
        "    vowels = 'aeiouAEIOU'\n",
        "    filtered_string = ''.join(filter(lambda char: char not in vowels, string))\n",
        "    return filtered_string\n",
        "\n",
        "input_string = \"Hello, World!\"\n",
        "result = remove_vowels(input_string)\n",
        "print(result)"
      ],
      "metadata": {
        "colab": {
          "base_uri": "https://localhost:8080/"
        },
        "id": "Z1aNBchVMCFk",
        "outputId": "e1f22e2a-691a-4536-b8d6-7657a9b723cc"
      },
      "execution_count": 14,
      "outputs": [
        {
          "output_type": "stream",
          "name": "stdout",
          "text": [
            "Hll, Wrld!\n"
          ]
        }
      ]
    },
    {
      "cell_type": "markdown",
      "source": [
        "# New Section"
      ],
      "metadata": {
        "id": "9YE-0NgxS0a4"
      }
    }
  ]
}